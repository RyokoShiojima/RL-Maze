{
 "cells": [
  {
   "cell_type": "markdown",
   "metadata": {},
   "source": [
    "# 学習部分\n",
    "  \n",
    "強化学習の手法の一つであるSARSAを用いて, 自作した迷路問題を解かせます"
   ]
  },
  {
   "cell_type": "code",
   "execution_count": 1,
   "metadata": {
    "scrolled": false
   },
   "outputs": [
    {
     "data": {
      "image/png": "[encoded data removed]",
      "text/plain": [
       "<Figure size 504x504 with 1 Axes>"
      ]
     },
     "metadata": {},
     "output_type": "display_data"
    },
    {
     "data": {
      "image/png": "[encoded data removed]",
      "text/plain": [
       "<Figure size 504x504 with 1 Axes>"
      ]
     },
     "metadata": {
      "needs_background": "light"
     },
     "output_type": "display_data"
    }
   ],
   "source": [
    "import matplotlib\n",
    "%matplotlib inline\n",
    "\n",
    "import numpy as np\n",
    "from map import Map\n",
    "from agent import Agent\n",
    "\n",
    "class SARSA(object):\n",
    "    def __init__(self):\n",
    "        self.map = Map()\n",
    "        self.agent = Agent()\n",
    "        #self.max_episode = 100\n",
    "        self.max_episode = 50\n",
    "        self.steps = 300\n",
    "        self.gamma = 0.9\n",
    "        self.alpha = 0.8\n",
    "        self.q_table = np.random.uniform(low=-1,high=1,\\\n",
    "                                    size=(self.map.size**2,self.agent.action_space))\n",
    "\n",
    "    def decide_action(self,next_state,episode,q_table):\n",
    "        first_probability = 0.75\n",
    "        epsilon = first_probability * (1/(episode+1))\n",
    "        if epsilon <= np.random.uniform(0,1):\n",
    "            next_action = np.argmax(q_table[next_state])   \n",
    "        else:\n",
    "            prob = sum(q_table[next_state]+100) \n",
    "            w = (q_table[next_state]+100) / prob\n",
    "            next_action = np.random.choice(range(4) ,p=w)  \n",
    "        return next_action\n",
    "\n",
    "    def update(self,q_table,state,action,reward,next_state,next_action):\n",
    "        q_table[state, action] = (1 - self.alpha) * q_table[state, action] \\\n",
    "                                  + self.alpha *(reward + self.gamma * q_table[next_state, next_action])\n",
    "        return q_table\n",
    "\n",
    "    def reward(self,done,state,next_state):\n",
    "        if done:\n",
    "            reward = 100\n",
    "        elif state == next_state:\n",
    "            reward = -10\n",
    "        else:\n",
    "            reward = -0.1\n",
    "        return reward\n",
    "\n",
    "\n",
    "    def run(self):\n",
    "        for episode in range(self.max_episode):\n",
    "            self.agent = Agent(self.map.init_pos)\n",
    "            state = self.agent.get_state()\n",
    "            action = np.argmax(self.q_table[state]) \n",
    "            reward_of_episode = 0\n",
    "\n",
    "            for i in range(self.steps):\n",
    "                direction = self.map.chack_movable(self.agent.pos) \n",
    "                self.agent.action(action,direction)\n",
    "                done = self.agent.check_done()\n",
    "                next_state = self.agent.get_state()\n",
    "                reward = self.reward(done,state,next_state) \n",
    "                reward_of_episode += reward\n",
    "                next_action = self.decide_action(next_state,episode,self.q_table)\n",
    "                self.q_table = self.update(self.q_table,state,action,reward,next_state,next_action)\n",
    "                action = next_action\n",
    "                state = next_state\n",
    "                \n",
    "                self.map.plot(self.agent.pos,self.q_table)\n",
    "                if done:\n",
    "                    break\n",
    "            #print(\"episode %5d, reward %6d, step %5d\" %(episode+1,reward_of_episode,i+1))\n",
    "\n",
    "if __name__ == \"__main__\":\n",
    "   SARSA().run() \n"
   ]
  },
  {
   "cell_type": "markdown",
   "metadata": {},
   "source": [
    "# 学習過程\n",
    "　　\n",
    "jupyter上では描画に時間がかかるため, 学習過程がわかるように動画を載せておきます."
   ]
  },
  {
   "cell_type": "code",
   "execution_count": 2,
   "metadata": {},
   "outputs": [
    {
     "data": {
      "text/html": [
       "\n",
       "        <iframe\n",
       "            width=\"800\"\n",
       "            height=\"600\"\n",
       "            src=\"https://www.youtube.com/embed/rj-Hsv4iHUQ\"\n",
       "            frameborder=\"0\"\n",
       "            allowfullscreen\n",
       "        ></iframe>\n",
       "        "
      ],
      "text/plain": [
       "<IPython.lib.display.YouTubeVideo at 0x7f96ce893f90>"
      ]
     },
     "execution_count": 2,
     "metadata": {},
     "output_type": "execute_result"
    }
   ],
   "source": [
    "import IPython.display\n",
    "\n",
    "IPython.display.YouTubeVideo('rj-Hsv4iHUQ', width=800, height=600)"
   ]
  }
 ],
 "metadata": {
  "kernelspec": {
   "display_name": "Python 3",
   "language": "python",
   "name": "python3"
  },
  "language_info": {
   "codemirror_mode": {
    "name": "ipython",
    "version": 3
   },
   "file_extension": ".py",
   "mimetype": "text/x-python",
   "name": "python",
   "nbconvert_exporter": "python",
   "pygments_lexer": "ipython3",
   "version": "3.7.4"
  }
 },
 "nbformat": 4,
 "nbformat_minor": 2
}
