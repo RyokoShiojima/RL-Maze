{
 "cells": [
  {
   "cell_type": "markdown",
   "metadata": {},
   "source": [
    "## Q学習\n",
    "\n",
    "### 参考にしたコードのリンク\n",
    "[参考にしたコード](https://github.com/matsumotokoki/RL-Maze \"RL-Maze\")\n",
    "\n",
    "### 参考にした部分\n",
    "- map.py:マップの作り方・表示方法\n",
    "- agent.py:エージェントの状態を返す関数の作り方\n",
    "- q-learning.py:Q学習の式・学習の仕方・報酬の与え方"
   ]
  },
  {
   "cell_type": "code",
   "execution_count": 1,
   "metadata": {},
   "outputs": [],
   "source": [
    "import numpy as np\n",
    "from map import Map\n",
    "from agent import Agent\n",
    "%matplotlib inline"
   ]
  },
  {
   "cell_type": "code",
   "execution_count": 2,
   "metadata": {},
   "outputs": [],
   "source": [
    "class q_learning(object):\n",
    "    def __init__(self):\n",
    "        self.map = Map()\n",
    "        self.agent = Agent()\n",
    "        self.max_episode = 100\n",
    "        self.steps = 300\n",
    "        self.gamma = 0.9\n",
    "        self.alpha = 0.8\n",
    "        self.q_table = np.random.uniform(low=-1,high=1,\\\n",
    "                                    size=(self.map.size**2,self.agent.action_space))\n",
    "\n",
    "    def decide_action(self,next_state,episode,q_table):\n",
    "        first_probability = 0.75\n",
    "        epsilon = first_probability * (1/(episode+1))\n",
    "        if epsilon <= np.random.uniform(0,1):\n",
    "            next_action = np.argmax(q_table[next_state])   \n",
    "        else:\n",
    "            prob = sum(q_table[next_state]+100) \n",
    "            w = (q_table[next_state]+100) / prob\n",
    "            next_action = np.random.choice(range(4) ,p=w)  \n",
    "        return next_action\n",
    "\n",
    "    def update(self,q_table,state,action,reward,next_state):\n",
    "        next_max_q = max(q_table[next_state])\n",
    "        q_table[state,action] = (1 - self.alpha) * q_table[state,action] + self.alpha * (reward + self.gamma * next_max_q)\n",
    "        return q_table\n",
    "\n",
    "    def reward(self,done,state,next_state,_map):\n",
    "        boko = []\n",
    "        for i in range(_map.shape[0]):\n",
    "            for j in range(_map.shape[1]):\n",
    "                if _map[12-j][i] == 3:\n",
    "                    boko.append([12-j,i])\n",
    "\n",
    "        state_ = [state//13,state%13]\n",
    "        next_state_ = [next_state//13,next_state%13]\n",
    "\n",
    "        for boko_ in boko:\n",
    "            if state_ == boko_:\n",
    "                reward = -30\n",
    "                break\n",
    "            else:\n",
    "                reward = 30\n",
    "\n",
    "        if done and next_state_ ==[11,11] :\n",
    "            reward = 100\n",
    "        elif done and next_state_ == [11,2]:\n",
    "            reward = 60\n",
    "        elif done and next_state_ == [6,11]:\n",
    "            reward = 40\n",
    "        elif state == next_state:\n",
    "            reward = -10\n",
    "        else:\n",
    "            reward = -1\n",
    "        return reward\n",
    "\n",
    "\n",
    "    def run(self):\n",
    "        for episode in range(self.max_episode):\n",
    "            self.agent = Agent(self.map.init_pos)\n",
    "            state = self.agent.get_state()\n",
    "            action = np.argmax(self.q_table[state]) \n",
    "            reward_of_episode = 0\n",
    "\n",
    "            for i in range(self.steps):\n",
    "                direction = self.map.chack_movable(self.agent.pos)\n",
    "                self.agent.action(action,direction)\n",
    "                done = self.agent.check_done()\n",
    "                next_state = self.agent.get_state()\n",
    "                reward = self.reward(done,state,next_state,self.map.map)\n",
    "                reward_of_episode += reward\n",
    "                self.q_table = self.update(self.q_table,state,action,reward,next_state)\n",
    "                action = self.decide_action(next_state,episode,self.q_table)\n",
    "                state = next_state\n",
    "                self.map.plot(self.agent.pos,self.q_table)\n",
    "                if done:\n",
    "                    break\n",
    "            print(\"episode %5d, reward %6d, step %5d\" %(episode+1,reward_of_episode,i+1))"
   ]
  },
  {
   "cell_type": "code",
   "execution_count": 3,
   "metadata": {},
   "outputs": [
    {
     "data": {
      "image/png": "[encoded data removed]",
      "text/plain": [
       "<Figure size 504x504 with 1 Axes>"
      ]
     },
     "metadata": {},
     "output_type": "display_data"
    },
    {
     "name": "stdout",
     "output_type": "stream",
     "text": [
      "episode   100, reward     46, step    15\n"
     ]
    },
    {
     "data": {
      "image/png": "[encoded data removed]",
      "text/plain": [
       "<Figure size 504x504 with 1 Axes>"
      ]
     },
     "metadata": {
      "needs_background": "light"
     },
     "output_type": "display_data"
    }
   ],
   "source": [
    "if __name__ == \"__main__\":\n",
    "   q_learning().run() "
   ]
  }
 ],
 "metadata": {
  "kernelspec": {
   "display_name": "Python 3",
   "language": "python",
   "name": "python3"
  },
  "language_info": {
   "codemirror_mode": {
    "name": "ipython",
    "version": 3
   },
   "file_extension": ".py",
   "mimetype": "text/x-python",
   "name": "python",
   "nbconvert_exporter": "python",
   "pygments_lexer": "ipython3",
   "version": "3.8.5"
  }
 },
 "nbformat": 4,
 "nbformat_minor": 4
}
